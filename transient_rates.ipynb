{
 "cells": [
  {
   "cell_type": "code",
   "execution_count": 4,
   "metadata": {},
   "outputs": [],
   "source": [
    "from hoki import load\n",
    "import pandas as pd\n",
    "import matplotlib.pyplot as plt"
   ]
  },
  {
   "cell_type": "markdown",
   "metadata": {},
   "source": [
    "Loading the binary and single star population transient rates. Note we chose this particular IMF and metallicity in order to reproduce the plot shown on the left hand sife of Figure 1 in Eldridge et al. 2018"
   ]
  },
  {
   "cell_type": "code",
   "execution_count": 10,
   "metadata": {},
   "outputs": [
    {
     "data": {
      "text/html": [
       "<div>\n",
       "<style scoped>\n",
       "    .dataframe tbody tr th:only-of-type {\n",
       "        vertical-align: middle;\n",
       "    }\n",
       "\n",
       "    .dataframe tbody tr th {\n",
       "        vertical-align: top;\n",
       "    }\n",
       "\n",
       "    .dataframe thead th {\n",
       "        text-align: right;\n",
       "    }\n",
       "</style>\n",
       "<table border=\"1\" class=\"dataframe\">\n",
       "  <thead>\n",
       "    <tr style=\"text-align: right;\">\n",
       "      <th></th>\n",
       "      <th>log_age</th>\n",
       "      <th>Ia</th>\n",
       "      <th>IIP</th>\n",
       "      <th>II</th>\n",
       "      <th>Ib</th>\n",
       "      <th>Ic</th>\n",
       "      <th>LGRB</th>\n",
       "      <th>PISNe</th>\n",
       "      <th>low_mass</th>\n",
       "      <th>e_Ia</th>\n",
       "      <th>e_IIP</th>\n",
       "      <th>e_II</th>\n",
       "      <th>e_Ib</th>\n",
       "      <th>e_Ic</th>\n",
       "      <th>e_LGRB</th>\n",
       "      <th>e_PISNe</th>\n",
       "      <th>e_low_mass</th>\n",
       "      <th>age_yrs</th>\n",
       "    </tr>\n",
       "  </thead>\n",
       "  <tbody>\n",
       "    <tr>\n",
       "      <td>0</td>\n",
       "      <td>6.0</td>\n",
       "      <td>0.0</td>\n",
       "      <td>0.0</td>\n",
       "      <td>0.0</td>\n",
       "      <td>0.000000</td>\n",
       "      <td>0.0</td>\n",
       "      <td>0.0</td>\n",
       "      <td>0.000000</td>\n",
       "      <td>0.0</td>\n",
       "      <td>0.0</td>\n",
       "      <td>0.0</td>\n",
       "      <td>0.0</td>\n",
       "      <td>0.000000</td>\n",
       "      <td>0.0</td>\n",
       "      <td>0.0</td>\n",
       "      <td>0.00000</td>\n",
       "      <td>0.0</td>\n",
       "      <td>1122019.00</td>\n",
       "    </tr>\n",
       "    <tr>\n",
       "      <td>1</td>\n",
       "      <td>6.1</td>\n",
       "      <td>0.0</td>\n",
       "      <td>0.0</td>\n",
       "      <td>0.0</td>\n",
       "      <td>0.000000</td>\n",
       "      <td>0.0</td>\n",
       "      <td>0.0</td>\n",
       "      <td>0.000000</td>\n",
       "      <td>0.0</td>\n",
       "      <td>0.0</td>\n",
       "      <td>0.0</td>\n",
       "      <td>0.0</td>\n",
       "      <td>0.000000</td>\n",
       "      <td>0.0</td>\n",
       "      <td>0.0</td>\n",
       "      <td>0.00000</td>\n",
       "      <td>0.0</td>\n",
       "      <td>290520.12</td>\n",
       "    </tr>\n",
       "    <tr>\n",
       "      <td>2</td>\n",
       "      <td>6.2</td>\n",
       "      <td>0.0</td>\n",
       "      <td>0.0</td>\n",
       "      <td>0.0</td>\n",
       "      <td>0.000000</td>\n",
       "      <td>0.0</td>\n",
       "      <td>0.0</td>\n",
       "      <td>0.000000</td>\n",
       "      <td>0.0</td>\n",
       "      <td>0.0</td>\n",
       "      <td>0.0</td>\n",
       "      <td>0.0</td>\n",
       "      <td>0.000000</td>\n",
       "      <td>0.0</td>\n",
       "      <td>0.0</td>\n",
       "      <td>0.00000</td>\n",
       "      <td>0.0</td>\n",
       "      <td>365743.12</td>\n",
       "    </tr>\n",
       "    <tr>\n",
       "      <td>3</td>\n",
       "      <td>6.3</td>\n",
       "      <td>0.0</td>\n",
       "      <td>0.0</td>\n",
       "      <td>0.0</td>\n",
       "      <td>0.000000</td>\n",
       "      <td>0.0</td>\n",
       "      <td>0.0</td>\n",
       "      <td>0.000000</td>\n",
       "      <td>0.0</td>\n",
       "      <td>0.0</td>\n",
       "      <td>0.0</td>\n",
       "      <td>0.0</td>\n",
       "      <td>0.000000</td>\n",
       "      <td>0.0</td>\n",
       "      <td>0.0</td>\n",
       "      <td>0.00000</td>\n",
       "      <td>0.0</td>\n",
       "      <td>460443.62</td>\n",
       "    </tr>\n",
       "    <tr>\n",
       "      <td>4</td>\n",
       "      <td>6.4</td>\n",
       "      <td>0.0</td>\n",
       "      <td>0.0</td>\n",
       "      <td>0.0</td>\n",
       "      <td>3.847896</td>\n",
       "      <td>0.0</td>\n",
       "      <td>0.0</td>\n",
       "      <td>5.109734</td>\n",
       "      <td>0.0</td>\n",
       "      <td>0.0</td>\n",
       "      <td>0.0</td>\n",
       "      <td>0.0</td>\n",
       "      <td>0.496761</td>\n",
       "      <td>0.0</td>\n",
       "      <td>0.0</td>\n",
       "      <td>0.80792</td>\n",
       "      <td>0.0</td>\n",
       "      <td>579664.00</td>\n",
       "    </tr>\n",
       "  </tbody>\n",
       "</table>\n",
       "</div>"
      ],
      "text/plain": [
       "   log_age   Ia  IIP   II        Ib   Ic  LGRB     PISNe  low_mass  e_Ia  \\\n",
       "0      6.0  0.0  0.0  0.0  0.000000  0.0   0.0  0.000000       0.0   0.0   \n",
       "1      6.1  0.0  0.0  0.0  0.000000  0.0   0.0  0.000000       0.0   0.0   \n",
       "2      6.2  0.0  0.0  0.0  0.000000  0.0   0.0  0.000000       0.0   0.0   \n",
       "3      6.3  0.0  0.0  0.0  0.000000  0.0   0.0  0.000000       0.0   0.0   \n",
       "4      6.4  0.0  0.0  0.0  3.847896  0.0   0.0  5.109734       0.0   0.0   \n",
       "\n",
       "   e_IIP  e_II      e_Ib  e_Ic  e_LGRB  e_PISNe  e_low_mass     age_yrs  \n",
       "0    0.0   0.0  0.000000   0.0     0.0  0.00000         0.0  1122019.00  \n",
       "1    0.0   0.0  0.000000   0.0     0.0  0.00000         0.0   290520.12  \n",
       "2    0.0   0.0  0.000000   0.0     0.0  0.00000         0.0   365743.12  \n",
       "3    0.0   0.0  0.000000   0.0     0.0  0.00000         0.0   460443.62  \n",
       "4    0.0   0.0  0.496761   0.0     0.0  0.80792         0.0   579664.00  "
      ]
     },
     "execution_count": 10,
     "metadata": {},
     "output_type": "execute_result"
    }
   ],
   "source": [
    "bin_rates = load.model_output('data/supernova-bin-imf135_300.z002.dat')\n",
    "\n",
    "bin_rates.head()"
   ]
  },
  {
   "cell_type": "markdown",
   "metadata": {},
   "source": [
    "Most column names are pretty self-explanatory, appart from `low_mass`, which just detones the rate of low-mass supernovae (< 2M⊙). The `age_yrs` bin is the size of each time bin in years; indeed since BPASS works in log(time) space, each time bin has a different width in years."
   ]
  },
  {
   "cell_type": "code",
   "execution_count": 14,
   "metadata": {},
   "outputs": [],
   "source": [
    "# The last time bin in BPASS does some weird stuff so it's better to just ignore it.\n",
    "bin_rates = bin_rates[:-1]\n",
    "\n",
    "# We are going to use the log_age and the size of the bin in years a lot, so I'm just renaming them for ease.\n",
    "age = bin_rates.log_age.values\n",
    "bin_size = bin_rates.age_yrs.values"
   ]
  },
  {
   "cell_type": "markdown",
   "metadata": {},
   "source": [
    "### Core Collapse Supernovae rates\n",
    "\n",
    "Core collapse supernovae comprise the type IIP, II, Ib and Ic. To get the total rate we need to sum these columns as well as put the single star and binary populations together."
   ]
  },
  {
   "cell_type": "code",
   "execution_count": 21,
   "metadata": {},
   "outputs": [],
   "source": [
    "ccsne = ( bin_rates[['IIP', 'II', 'Ib', 'Ic']].sum(axis=1))"
   ]
  },
  {
   "cell_type": "code",
   "execution_count": 25,
   "metadata": {},
   "outputs": [],
   "source": [
    "ccsne_norm = ccsne/bin_size/(10**6)\n",
    "typeIa_norm = bin_rates.Ia.values /bin_size/(10**6)\n",
    "lgrbs_norm = bin_rates.LGRB.values /bin_size/(10**6)\n",
    "pisne_norm = bin_rates.PISNe.values/bin_size/(10**6)"
   ]
  },
  {
   "cell_type": "code",
   "execution_count": 26,
   "metadata": {},
   "outputs": [
    {
     "data": {
      "text/plain": [
       "<matplotlib.legend.Legend at 0x7f723dffad68>"
      ]
     },
     "execution_count": 26,
     "metadata": {},
     "output_type": "execute_result"
    },
    {
     "data": {
      "image/png": "[encoded data removed]",
      "text/plain": [
       "<Figure size 720x504 with 1 Axes>"
      ]
     },
     "metadata": {
      "needs_background": "light"
     },
     "output_type": "display_data"
    }
   ],
   "source": [
    "plt.figure(figsize = (10,7))\n",
    "\n",
    "plt.step(age, typeIa_norm, label='SN Ia')\n",
    "plt.step(age, ccsne_norm, label='CCSNe')\n",
    "plt.step(age, lgrbs_norm, label='LGRB')\n",
    "plt.step(age, pisne_norm, label='PISNe')\n",
    "\n",
    "plt.yscale(\"log\")\n",
    "\n",
    "plt.text(9, 10**(-11), r\"Z=0.1Z$_{\\odot}$\", fontsize=18)\n",
    "\n",
    "plt.ylabel(r\"Event Rate (events/M$_{\\odot}$/year)\")\n",
    "plt.xlabel(\"log(age/yrs)\")\n",
    "plt.legend(fontsize=16)"
   ]
  },
  {
   "cell_type": "markdown",
   "metadata": {},
   "source": [
    "For a different metallicity"
   ]
  },
  {
   "cell_type": "code",
   "execution_count": 40,
   "metadata": {},
   "outputs": [
    {
     "data": {
      "text/plain": [
       "<matplotlib.legend.Legend at 0x7f723e115b00>"
      ]
     },
     "execution_count": 40,
     "metadata": {},
     "output_type": "execute_result"
    },
    {
     "data": {
      "image/png": "[encoded data removed]",
      "text/plain": [
       "<Figure size 720x504 with 1 Axes>"
      ]
     },
     "metadata": {
      "needs_background": "light"
     },
     "output_type": "display_data"
    }
   ],
   "source": [
    "# !gunzip data/supernova-bin-imf135_300.z040.dat.gz\n",
    "bin_rates = load.model_output('data/supernova-bin-imf135_300.z040.dat')\n",
    "\n",
    "bin_rates = bin_rates[:-1]\n",
    "age = bin_rates.log_age.values\n",
    "bin_size = bin_rates.age_yrs.values\n",
    "\n",
    "ccsne = ( bin_rates[['IIP', 'II', 'Ib', 'Ic']].sum(axis=1))\n",
    "ccsne_norm = ccsne/bin_size/(10**6)\n",
    "typeIa_norm = bin_rates.Ia.values /bin_size/(10**6)\n",
    "lgrbs_norm = bin_rates.LGRB.values /bin_size/(10**6)\n",
    "pisne_norm = bin_rates.PISNe.values/bin_size/(10**6)\n",
    "\n",
    "plt.figure(figsize = (10,7))\n",
    "\n",
    "plt.step(age, typeIa_norm, label='SN Ia')\n",
    "plt.step(age, ccsne_norm, label='CCSNe')\n",
    "plt.step(age, lgrbs_norm, label='LGRB')\n",
    "plt.step(age, pisne_norm, label='PISNe')\n",
    "\n",
    "plt.yscale(\"log\")\n",
    "\n",
    "plt.text(9, 10**(-11), r\"Z=0.1Z$_{\\odot}$\", fontsize=18)\n",
    "\n",
    "plt.ylabel(r\"Event Rate (events/M$_{\\odot}$/year)\")\n",
    "plt.xlabel(\"log(age/yrs)\")\n",
    "plt.legend(fontsize=16)"
   ]
  },
  {
   "cell_type": "markdown",
   "metadata": {},
   "source": [
    "For a range of metallicities"
   ]
  },
  {
   "cell_type": "code",
   "execution_count": 53,
   "metadata": {},
   "outputs": [],
   "source": [
    "import glob\n",
    "import os\n",
    "# import subprocess"
   ]
  },
  {
   "cell_type": "code",
   "execution_count": 58,
   "metadata": {},
   "outputs": [
    {
     "data": {
      "text/plain": [
       "'002'"
      ]
     },
     "execution_count": 58,
     "metadata": {},
     "output_type": "execute_result"
    }
   ],
   "source": []
  },
  {
   "cell_type": "code",
   "execution_count": null,
   "metadata": {},
   "outputs": [],
   "source": [
    "fig, ax = plt.subplots(1,1)\n",
    "\n",
    "for f in sorted(glob.glob('data/supernova-bin*')):\n",
    "\n",
    "    os.system('gunzip %s'%f)\n",
    "    \n",
    "    Z = f[31:34]\n",
    "    \n",
    "    bin_rates = load.model_output(f)\n",
    "\n",
    "    bin_rates = bin_rates[:-1]\n",
    "    age = bin_rates.log_age.values\n",
    "    bin_size = bin_rates.age_yrs.values\n",
    "\n",
    "    ccsne = ( bin_rates[['IIP', 'II', 'Ib', 'Ic']].sum(axis=1))\n",
    "    ccsne_norm = ccsne/bin_size/(10**6)\n",
    "    typeIa_norm = bin_rates.Ia.values /bin_size/(10**6)\n",
    "    lgrbs_norm = bin_rates.LGRB.values /bin_size/(10**6)\n",
    "    pisne_norm = bin_rates.PISNe.values/bin_size/(10**6)\n",
    "    \n",
    "    ax.step(age, ccsne, label=\"%sZ$_{\\odot}$\"%Z)\n",
    "    \n",
    "    \n",
    "plt.yscale(\"log\")\n",
    "\n",
    "plt.ylabel(r\"Event Rate (events/M$_{\\odot}$/year)\")\n",
    "plt.xlabel(\"log(age/yrs)\")\n",
    "plt.legend(fontsize=16)"
   ]
  },
  {
   "cell_type": "code",
   "execution_count": null,
   "metadata": {},
   "outputs": [],
   "source": []
  }
 ],
 "metadata": {
  "kernelspec": {
   "display_name": "Python 3",
   "language": "python",
   "name": "python3"
  },
  "language_info": {
   "codemirror_mode": {
    "name": "ipython",
    "version": 3
   },
   "file_extension": ".py",
   "mimetype": "text/x-python",
   "name": "python",
   "nbconvert_exporter": "python",
   "pygments_lexer": "ipython3",
   "version": "3.6.8"
  }
 },
 "nbformat": 4,
 "nbformat_minor": 2
}
